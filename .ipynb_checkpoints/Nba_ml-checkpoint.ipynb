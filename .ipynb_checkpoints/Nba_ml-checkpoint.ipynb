{
 "cells": [
  {
   "cell_type": "code",
   "execution_count": 22,
   "metadata": {},
   "outputs": [
    {
     "data": {
      "text/plain": [
       "Index(['Unnamed: 0', 'index', 'Team', 'Game', 'Date', 'Home', 'Opponent',\n",
       "       'WINorLOSS', 'TeamPoints', 'OpponentPoints', 'FieldGoals',\n",
       "       'FieldGoalsAttempted', 'FieldGoalsPct', 'X3PointShots',\n",
       "       'X3PointShotsAttempted', 'X3PointShotsPct', 'FreeThrows',\n",
       "       'FreeThrowsAttempted', 'FreeThrowsPct', 'OffRebounds', 'TotalRebounds',\n",
       "       'Assists', 'Steals', 'Blocks', 'Turnovers', 'TotalFouls',\n",
       "       'OppFieldGoals', 'OppFieldGoalsAttempted', 'OppFieldGoalsPct',\n",
       "       'Opp3PointShots', 'Opp3PointShotsAttempted', 'Opp3PointShotsPct',\n",
       "       'OppFreeThrows', 'OppFreeThrowsAttempted', 'OppFreeThrowsPct',\n",
       "       'OppOffRebounds', 'OppTotalRebounds', 'OppAssists', 'OppSteals',\n",
       "       'OppBlocks', 'OppTurnovers', 'OppTotalFouls', 'Logo'],\n",
       "      dtype='object')"
      ]
     },
     "execution_count": 22,
     "metadata": {},
     "output_type": "execute_result"
    }
   ],
   "source": [
    "import pandas as pd\n",
    "import requests\n",
    "from sklearn.model_selection import train_test_split\n",
    "from sklearn.linear_model import LinearRegression\n",
    "from sklearn.metrics import mean_squared_error, r2_score\n",
    "\n",
    "#url = \"https://alfredfiles.s3.us-east-2.amazonaws.com/nba_file/nba_games_stats.csv\"\n",
    "url = \"static/data/nba_games_stats.csv\"\n",
    "team1 = \"ATL\"\n",
    "team2 = \"LAL\"\n",
    "\n",
    "team_scores = []\n",
    "\n",
    "# average function \n",
    "def Average(lst): \n",
    "    return sum(lst) / len(lst) \n",
    "\n",
    "test \n",
    "df = pd.read_csv(url)\n",
    "df.columns"
   ]
  },
  {
   "cell_type": "code",
   "execution_count": 25,
   "metadata": {},
   "outputs": [],
   "source": [
    "def alfredml (x, y):\n",
    "    reduced = df[['Team', 'Opponent', 'TeamPoints', 'OpponentPoints', 'FieldGoals',\n",
    "           'FieldGoalsAttempted', 'FieldGoalsPct', 'X3PointShots',\n",
    "           'X3PointShotsAttempted', 'X3PointShotsPct', 'FreeThrows',\n",
    "           'FreeThrowsAttempted', 'FreeThrowsPct', 'OffRebounds', 'TotalRebounds',\n",
    "           'Assists', 'Steals', 'Blocks', 'Turnovers', 'TotalFouls']]\n",
    "\n",
    "    filtered_df = reduced.loc[(reduced[\"Team\"] == team1) & (reduced[\"Opponent\"] == team2), :]\n",
    "\n",
    "    #fitering my data points \n",
    "    filtered_df = filtered_df[['TeamPoints', 'OpponentPoints', 'FieldGoals',\n",
    "           'FieldGoalsAttempted', 'FieldGoalsPct', 'X3PointShots',\n",
    "           'X3PointShotsAttempted', 'X3PointShotsPct', 'FreeThrows',\n",
    "           'FreeThrowsAttempted', 'FreeThrowsPct', 'OffRebounds', 'TotalRebounds',\n",
    "           'Assists', 'Steals', 'Blocks', 'Turnovers', 'TotalFouls']]\n",
    "\n",
    "    #getting input features and output values\n",
    "    X = filtered_df[['OpponentPoints', 'FieldGoals',\n",
    "           'FieldGoalsAttempted', 'FieldGoalsPct', 'X3PointShots',\n",
    "           'X3PointShotsAttempted', 'X3PointShotsPct', 'FreeThrows',\n",
    "           'FreeThrowsAttempted', 'FreeThrowsPct', 'OffRebounds', 'TotalRebounds',\n",
    "           'Assists', 'Steals', 'Blocks', 'Turnovers', 'TotalFouls']]\n",
    "    y = filtered_df['TeamPoints'].values.reshape(-1, 1)\n",
    "\n",
    "\n",
    "    print(X.shape, y.shape)\n",
    "\n",
    "\n",
    "\n",
    "    X_train, X_test, y_train, y_test = train_test_split(X, y, random_state=42)\n",
    "\n",
    "    #crrating a linear regressions model and fitting data into model \n",
    "    model = LinearRegression()\n",
    "    model.fit(X_train, y_train)\n",
    "\n",
    "\n",
    "    #predicting possble team point outcomes\n",
    "    predicted = model.predict(X_test)\n",
    "\n",
    "    predicted\n",
    "\n",
    "    #verifying my mse and r2 are acceptable \n",
    "    mse = mean_squared_error(y_test, predicted)\n",
    "    r2 = r2_score(y_test, predicted)\n",
    "    print(f\"Mean Squared Error (MSE): {mse}\")\n",
    "    print(f\"R-squared (R2 ): {r2}\")\n",
    "\n",
    "    #creating list of predicted values\n",
    "    predicted = [x[0] for x in predicted]\n",
    "\n",
    "    team_scores.append(round(Average(predicted)))\n",
    "\n",
    "\n"
   ]
  },
  {
   "cell_type": "code",
   "execution_count": 26,
   "metadata": {},
   "outputs": [
    {
     "name": "stdout",
     "output_type": "stream",
     "text": [
      "(8, 17) (8, 1)\n",
      "Mean Squared Error (MSE): 153.01112857171324\n",
      "R-squared (R2 ): -67.00494603187255\n"
     ]
    }
   ],
   "source": [
    "alfredml(team1,team2)"
   ]
  },
  {
   "cell_type": "code",
   "execution_count": 27,
   "metadata": {},
   "outputs": [
    {
     "data": {
      "text/plain": [
       "[105.0]"
      ]
     },
     "execution_count": 27,
     "metadata": {},
     "output_type": "execute_result"
    }
   ],
   "source": [
    "team_scores"
   ]
  },
  {
   "cell_type": "code",
   "execution_count": null,
   "metadata": {},
   "outputs": [],
   "source": [
    "def fliptheswitch()"
   ]
  }
 ],
 "metadata": {
  "kernelspec": {
   "display_name": "Python [conda env:Pythondata]",
   "language": "python",
   "name": "conda-env-Pythondata-py"
  },
  "language_info": {
   "codemirror_mode": {
    "name": "ipython",
    "version": 3
   },
   "file_extension": ".py",
   "mimetype": "text/x-python",
   "name": "python",
   "nbconvert_exporter": "python",
   "pygments_lexer": "ipython3",
   "version": "3.6.10"
  }
 },
 "nbformat": 4,
 "nbformat_minor": 4
}
